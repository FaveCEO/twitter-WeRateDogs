{
 "cells": [
  {
   "cell_type": "markdown",
   "metadata": {},
   "source": [
    "## Report: act_report"
   ]
  },
  {
   "cell_type": "markdown",
   "metadata": {},
   "source": [
    "WeRateDogs is a twitter account that rates dogs with the rating being a denominator of 10 most of the time and its numerator is always greater than the denominator, twitter users/dog_owners also tend to state the dog stage in which their dogs belong, either doggo, floofer, pupper or puppo. These are just <a href=\"https://zippypaws.com/blog/doggolingo-101-internet-language-of-the-dogs/\">doggolingo</a>\n",
    "- doggo is an affectionate name for a dog\n",
    "- floofer is a big ol’ (big old) doggo with an abundance of fluffy fur\n",
    "- pupper is a smol(small) doggo or a puppy.\n",
    "\n",
    "From this account with so many tweets and retweets about dogs one would like to know which breed of dogs is mainly owned by people and which dog tend to be the \"cutest\", knowing the cutest might be from the number of favorite count or the retweeted count but most times people do not always favorite or retweet a tweet because they like it, it might just be to view at a later time or they actually do find it very ridiculous and want others to see but in this study we will assume the favorite count or retweet is because users/viewers actually like what they see. \n",
    "\n",
    "**Most common dog breed?**\n",
    "\n",
    "The neural network which was used to predict images gave about 3 predictions of what could be in the image and this predictions always gave at least 2 types of breed a dog could be except if there was no dog at all in the image. After careful wrangling the dataset had about 113 different breeds. A bar chart was plot to check which breed occurred most using value counts and it shows that the Golden retriever is really owned by alot of people followed by the Labrador retriever, Pembroke and Chihuahua while the least common are the Scotch terrier, Bouvier des flandres, Entlebucher, and Clumber. The graph is shown below.\n",
    "    "
   ]
  },
  {
   "cell_type": "markdown",
   "metadata": {},
   "source": [
    "<img src=\"dog2.png\" height=\"700\" width=\"700\"/>\n"
   ]
  },
  {
   "cell_type": "markdown",
   "metadata": {},
   "source": [
    "<img src=\"dog1.png\" height=\"700\" width=\"700\"/>"
   ]
  },
  {
   "cell_type": "markdown",
   "metadata": {},
   "source": [
    "**The dog is popular, does that mean a higher rating?**\n",
    "\n",
    "Alot of users posted the Golden retriever dog but does the Golden retriever really have a higher rating as compared to others"
   ]
  },
  {
   "cell_type": "markdown",
   "metadata": {},
   "source": [
    "<img src=\"rate1.png\" height=\"700\" width=\"700\"/>"
   ]
  },
  {
   "cell_type": "markdown",
   "metadata": {},
   "source": [
    "<img src=\"rate2.png\" height=\"700\" width=\"700\"/>"
   ]
  },
  {
   "cell_type": "markdown",
   "metadata": {},
   "source": [
    "Apparently, the graph above shows the Golden retriever does not have the highest rating despite its popularity but Clumber has the highest rating. The picture below is a very good and valid reason for this dog to get a high rating"
   ]
  },
  {
   "cell_type": "markdown",
   "metadata": {},
   "source": [
    "<img src=\"clumber.jpg\" height=\"500\" width=\"500\"/>"
   ]
  },
  {
   "cell_type": "markdown",
   "metadata": {},
   "source": [
    "Looking at the image of the dog (Japanese spaniel) with the least rating, at this point we would say the rating is quite valid. It should be noted that only ratings with a denominator of 10 was used for this particular investigation."
   ]
  },
  {
   "cell_type": "markdown",
   "metadata": {},
   "source": [
    "<img src=\"japanesespaniel.jpg\" height=\"500\" width=\"300\"/>"
   ]
  },
  {
   "cell_type": "markdown",
   "metadata": {},
   "source": [
    "**Most popular dog stage for each breed**\n",
    "\n",
    "The dog stage which are just cute names dog owners give to their dogs as stated above.Taking a count of the most popular dog stage shows the pupper stage is the most popular following in all breeds after which we have the doggo stage. Very few breeds have the floofer, and puppo. The Golden retriever has alot of dogs in their pupper and doggo stage."
   ]
  },
  {
   "cell_type": "markdown",
   "metadata": {},
   "source": [
    "<img src=\"stage.png\" height=\"900\" width=\"900\"/>"
   ]
  },
  {
   "cell_type": "markdown",
   "metadata": {},
   "source": [
    "**Favorite dog stage**\n",
    "\n",
    "We have seen that most breeds have dogs in their pupper and doggo stage but now we would like to know how well the users like each stage asides the rating (which is out of the discretion of the user), favorite counts will allow us have an insight on this, we could say higher favorite count means the image is really adorable/cute. From the visualization, the puppo stage has the highest faurite count followed by the doggo stage. So though the pupper stage is really common the few puppo stage really does outshine it."
   ]
  },
  {
   "cell_type": "markdown",
   "metadata": {},
   "source": [
    "<img src=\"stage2.png\" height=\"500\" width=\"300\"/>"
   ]
  },
  {
   "cell_type": "markdown",
   "metadata": {},
   "source": [
    "**Favorite count and retweet**\n",
    "\n",
    "High favorite count leads to high retweet count and vice versa"
   ]
  }
 ],
 "metadata": {
  "kernelspec": {
   "display_name": "Python 3",
   "language": "python",
   "name": "python3"
  },
  "language_info": {
   "codemirror_mode": {
    "name": "ipython",
    "version": 3
   },
   "file_extension": ".py",
   "mimetype": "text/x-python",
   "name": "python",
   "nbconvert_exporter": "python",
   "pygments_lexer": "ipython3",
   "version": "3.8.8"
  }
 },
 "nbformat": 4,
 "nbformat_minor": 2
}
